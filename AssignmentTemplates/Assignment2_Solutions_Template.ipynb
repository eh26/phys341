{
  "nbformat": 4,
  "nbformat_minor": 0,
  "metadata": {
    "kernelspec": {
      "display_name": "Python 3",
      "language": "python",
      "name": "python3"
    },
    "language_info": {
      "codemirror_mode": {
        "name": "ipython",
        "version": 3
      },
      "file_extension": ".py",
      "mimetype": "text/x-python",
      "name": "python",
      "nbconvert_exporter": "python",
      "pygments_lexer": "ipython3",
      "version": "3.6.8"
    },
    "colab": {
      "name": "Assignment2_Solutions_Template.ipynb",
      "provenance": []
    }
  },
  "cells": [
    {
      "cell_type": "markdown",
      "metadata": {
        "id": "lL4gD3wAXTFL"
      },
      "source": [
        "# Assignment 2 Solutions"
      ]
    },
    {
      "cell_type": "markdown",
      "metadata": {
        "id": "5Tk_8FCzXTFM"
      },
      "source": [
        "# Question 1\n",
        "\n",
        "Let Z be a standard normal random variable and calculate the following probabilities, drawing pictures whenever appropriate.\n",
        "\n",
        "(a) P(0 <= Z <= 2.40)\n",
        "\n",
        "(b) P(0 <= Z <= 1)\n",
        "\n",
        "(c) P(-2.90 <= Z <= 0)\n",
        "\n",
        "(d) P(-2.90 <= Z <= 2.9)\n",
        "\n",
        "(e) P(Z <= 1.14)\n",
        "\n",
        "(f) P(-1.63 <= Z)  \n",
        "\n",
        "(g) P(-1.9 <= Z <= 2.00)\n",
        "\n",
        "(h) P(1.14 <= Z <= 2.50)\n",
        "\n",
        "(i) P(1.9 <= Z)\n",
        "\n",
        "(j) P( |Z| <= 2.50)"
      ]
    },
    {
      "cell_type": "code",
      "metadata": {
        "id": "F21AEG3hXTFN",
        "outputId": "b6653b33-ad5b-4886-9494-36bbeb846a76",
        "colab": {
          "base_uri": "https://localhost:8080/"
        }
      },
      "source": [
        "import scipy.stats as stats\n",
        "\n",
        "print (\"a: %.4f\"%(stats.norm.cdf(2.71) - stats.norm.cdf(0)))\n",
        "print (\"b: %.4f\"%(stats.norm.cdf(1.0) - stats.norm.cdf(0)))\n",
        "print (\"c: %.4f\"%(stats.norm.cdf(0) - stats.norm.cdf(-2.50)))\n",
        "print (\"d: %.4f\"%(stats.norm.cdf(2.5) - stats.norm.cdf(-2.50)))\n",
        "print (\"e: %.4f\"%(stats.norm.cdf(1.17)))\n",
        "print (\"f: %.4f\"%(1 - stats.norm.cdf(-1.91)))\n",
        "print (\"g: %.4f\"%(stats.norm.cdf(2.00) - stats.norm.cdf(-1.5)))\n",
        "print (\"h: %.4f\"%(stats.norm.cdf(2.50) - stats.norm.cdf(1.17)))\n",
        "print (\"i: %.4f\"%(1 - stats.norm.cdf(1.5)))\n",
        "print (\"j: %.4f\"%(stats.norm.cdf(2.5) - stats.norm.cdf(-2.50)))\n"
      ],
      "execution_count": 17,
      "outputs": [
        {
          "output_type": "stream",
          "name": "stdout",
          "text": [
            "a: 0.4966\n",
            "b: 0.3413\n",
            "c: 0.4938\n",
            "d: 0.9876\n",
            "e: 0.8790\n",
            "f: 0.9719\n",
            "g: 0.9104\n",
            "h: 0.1148\n",
            "i: 0.0668\n",
            "j: 0.9876\n"
          ]
        }
      ]
    },
    {
      "cell_type": "markdown",
      "metadata": {
        "id": "-5u7ZaNbXTFO"
      },
      "source": [
        "# Question 2\n",
        "\n",
        "Let Z be a standard normal random variable. In each case, determine the value of the constant c that makes the probability statement correct.\n",
        "\n",
        "(a) Phi(c) = 0.9826 \n",
        "\n",
        "(b) P(0 <= Z <= c) = 0.2995\n",
        "\n",
        "(c) P(c <= Z) = 0.1251\n",
        "\n",
        "(d) P(-c <= Z <= c) = 0.6476\n",
        "\n",
        "(e) P(c <= |Z|) = 0.0139"
      ]
    },
    {
      "cell_type": "code",
      "metadata": {
        "id": "yBpTTv2XXTFO"
      },
      "source": [
        ""
      ],
      "execution_count": null,
      "outputs": []
    },
    {
      "cell_type": "markdown",
      "metadata": {
        "id": "3Z6TGXAlXTFP"
      },
      "source": [
        "# Question 3\n",
        "\n",
        "If X is a normal rv with mean 80 and standard deviation 15, compute the following probabilities by standardizing.\n",
        "\n",
        "(a) P(X <= 110)\n",
        "\n",
        "(b) P(X <= 80)\n",
        "\n",
        "(c) P(57.5 <= X <= 110)\n",
        "\n",
        "(d) P(65 <= X)\n",
        "\n",
        "(e) P(87.5 <= X <= 102.5)\n",
        "\n",
        "(f) P( |X - 80| <= 15)\n",
        "  "
      ]
    },
    {
      "cell_type": "code",
      "metadata": {
        "id": "jv3XqR2TXTFP"
      },
      "source": [
        ""
      ],
      "execution_count": null,
      "outputs": []
    },
    {
      "cell_type": "markdown",
      "metadata": {
        "id": "XTfMG6JUXTFP"
      },
      "source": [
        "# Question 4\n",
        "\n",
        "Suppose the force acting on a column that helps to support a building is normally distributed with mean 15.8 kips and standard deviation 1.33 kips. (Round your answers to four decimal places.)\n",
        "\n",
        "(a) What is the probability that the force is at most 18 kips? \n",
        "\n",
        "(b) What is the probability that the force is between 10 and 12 kips? \n",
        "\n",
        "(c) What is the probability that the force differs from 15.8 kips by at most 1.5 standard deviations?"
      ]
    },
    {
      "cell_type": "code",
      "metadata": {
        "id": "3FhQCAfWXTFQ"
      },
      "source": [
        ""
      ],
      "execution_count": null,
      "outputs": []
    },
    {
      "cell_type": "markdown",
      "metadata": {
        "id": "OZiHHZVRXTFQ"
      },
      "source": [
        "# Question 5\n",
        "\n",
        "There are two machines available for cutting corks intended for use in wine bottles. The first produces corks with diameters that are normally distributed with mean 3 cm and standard deviation 0.08 cm. The second machine produces corks with diameters that have a normal distribution with mean 3.04 cm and standard deviation 0.02 cm. Acceptable corks have diameters between 2.9 cm and 3.1 cm.\n",
        "\n",
        "What is the probability that the first machine produces an acceptable cork? (Round your answer to four decimal places.) \n",
        "\n",
        "What is the probability that the second machine produces an acceptable cork? (Round your answer to four decimal places.)"
      ]
    },
    {
      "cell_type": "code",
      "metadata": {
        "id": "11WyZsKsXTFQ"
      },
      "source": [
        ""
      ],
      "execution_count": null,
      "outputs": []
    },
    {
      "cell_type": "markdown",
      "metadata": {
        "id": "cD0VcaWvXTFR"
      },
      "source": [
        "# Question 6\n",
        "\n",
        "It has been suggested that yield strength (ksi) for A36 grade steel is normally distributed with mu = 45 and σ = 4.0.\n",
        "\n",
        "(a) What is the probability that yield strength is at most 40?  \n",
        "\n",
        "What is the probability that yield strength is greater than 60?\n",
        "\n",
        "(b) What yield strength value separates the strongest 75% from the others?"
      ]
    },
    {
      "cell_type": "code",
      "metadata": {
        "id": "t_GYHmhlXTFR"
      },
      "source": [
        ""
      ],
      "execution_count": null,
      "outputs": []
    },
    {
      "cell_type": "markdown",
      "metadata": {
        "id": "B_IMDnFhXTFR"
      },
      "source": [
        "# Question 7\n",
        "\n",
        "The temperature reading from a thermocouple placed in a constant-temperature medium is normally distributed with mean μ, the actual temperature of the medium, and standard deviation σ. What would the value of σ have to be to ensure that 95% of all readings are within 0.9° of μ?"
      ]
    },
    {
      "cell_type": "code",
      "metadata": {
        "id": "TalXlubCXTFS"
      },
      "source": [
        ""
      ],
      "execution_count": null,
      "outputs": []
    },
    {
      "cell_type": "markdown",
      "metadata": {
        "id": "ieNDuAx-XTFS"
      },
      "source": [
        "$z = (\\bar{x}-\\mu)/\\sigma$\n",
        "\n",
        "Therefore,\n",
        "\n",
        "$\\sigma = (\\bar{x}-\\mu)/z$\n",
        "\n",
        "$\\sigma = \\delta_\\mu/z$"
      ]
    },
    {
      "cell_type": "code",
      "metadata": {
        "id": "Em2GVHHlXTFS"
      },
      "source": [
        ""
      ],
      "execution_count": null,
      "outputs": []
    },
    {
      "cell_type": "markdown",
      "metadata": {
        "id": "GhUOYa48XTFT"
      },
      "source": [
        "# Question 8\n",
        "\n",
        "Suppose that 10% of all steel shafts produced by a certain process are nonconforming but can be reworked (rather than having to be scrapped). Consider a random sample of 200 shafts, and let X denote the number among these that are nonconforming and can be reworked.\n",
        "\n",
        "(a) What is the (approximate) probability that X is at most 30?\n",
        "\n",
        "(b) What is the (approximate) probability that X is less than 30?\n",
        "\n",
        "(c) What is the (approximate) probability that X is between 15 and 25 (inclusive)?"
      ]
    },
    {
      "cell_type": "markdown",
      "metadata": {
        "id": "0SQhF2isXTFT"
      },
      "source": [
        "This question asks us to make an approximation to a process that is governed (exactly) by the binomial distribution.  The two approximations that we could considers are (a) the normal distribution, and (b) the Poisson distribution.  The normal distribution is appropriate for large N, and p $\\approx$ 0.5.  The Poission distribution is appropriate for small p or large p.  Since we have p = 0.10, we choose the Poisson distribution."
      ]
    },
    {
      "cell_type": "code",
      "metadata": {
        "id": "spGGIih1XTFT"
      },
      "source": [
        "import numpy as np\n"
      ],
      "execution_count": null,
      "outputs": []
    },
    {
      "cell_type": "code",
      "metadata": {
        "id": "a0NCrxBKXTFU"
      },
      "source": [
        ""
      ],
      "execution_count": null,
      "outputs": []
    }
  ]
}