{
  "nbformat": 4,
  "nbformat_minor": 0,
  "metadata": {
    "kernelspec": {
      "display_name": "Python 3",
      "language": "python",
      "name": "python3"
    },
    "language_info": {
      "codemirror_mode": {
        "name": "ipython",
        "version": 3
      },
      "file_extension": ".py",
      "mimetype": "text/x-python",
      "name": "python",
      "nbconvert_exporter": "python",
      "pygments_lexer": "ipython3",
      "version": "3.6.8"
    },
    "colab": {
      "name": "Assignment1_Solutions_Template.ipynb",
      "provenance": []
    }
  },
  "cells": [
    {
      "cell_type": "markdown",
      "metadata": {
        "id": "SRCFebhiGiWP"
      },
      "source": [
        "# Assignment 1 Solutions"
      ]
    },
    {
      "cell_type": "code",
      "metadata": {
        "id": "ZkMWd9YtGiWR"
      },
      "source": [
        "# Import the required packages, \n",
        "# with their conventional names \n",
        "import matplotlib.pyplot as plt \n",
        "import numpy as np \n",
        "import scipy.stats as stats"
      ],
      "execution_count": null,
      "outputs": []
    },
    {
      "cell_type": "markdown",
      "metadata": {
        "id": "dfNWlAjqGiWS"
      },
      "source": [
        "# Question 1:  \n",
        "\n",
        "A cat is launched from the top of the Trible library with zero initial velocity, and lands, unharmed, on the ground below time later. The height of the Trible library is measured to be (21.2 +/- 0.4) m. The time is measured to be (2.04 +/- 0.05) s.\n",
        "\n",
        "(a) What is the measured value of the acceleration due to gravity, ignoring air resistance?\n",
        "\n",
        "(b) Assuming that the uncertainties quoted above follow a uniform error distribution, what is the measured uncertainty in the acceleration due to gravity?\n",
        "\n",
        "(c) Assuming that the uncertainties quoted above follow a Gaussian error distribution, what is the measured uncertainty in the acceleration due to gravity?"
      ]
    },
    {
      "cell_type": "code",
      "metadata": {
        "id": "uk6yuNtMGiWS"
      },
      "source": [
        ""
      ],
      "execution_count": null,
      "outputs": []
    },
    {
      "cell_type": "code",
      "metadata": {
        "id": "tYT3G3miGiWT"
      },
      "source": [
        ""
      ],
      "execution_count": null,
      "outputs": []
    },
    {
      "cell_type": "code",
      "metadata": {
        "id": "4ruXvQL0GiWT"
      },
      "source": [
        ""
      ],
      "execution_count": null,
      "outputs": []
    },
    {
      "cell_type": "code",
      "metadata": {
        "id": "11No2a1EGiWT"
      },
      "source": [
        ""
      ],
      "execution_count": null,
      "outputs": []
    },
    {
      "cell_type": "markdown",
      "metadata": {
        "id": "HKryzbFgGiWT"
      },
      "source": [
        "# Question 2: \n",
        "\n",
        "Airlines sometimes overbook flights. Suppose that for a plane with 50 seats, 55 passengers have tickets. Define the random variable Y as the number of ticketed passengers who actually show up for the flight. The probability mass function of Y appears in the accompanying table.\n",
        "\n",
        "(a) What is the probability that the flight will accommodate all ticketed passengers who show up?\n",
        "\n",
        "(b) What is the probability that not all ticketed passengers who show up can be accommodated?\n",
        "\n",
        "(c) If you are the first person on the standby list (which means you will be the first one to get on the plane if there are any seats available after all ticketed passengers have been accommodated), what is the probability that you will be able to take the flight? \n",
        "\n",
        "What is this probability if you are the third person on the standby list?"
      ]
    },
    {
      "cell_type": "code",
      "metadata": {
        "colab": {
          "base_uri": "https://localhost:8080/"
        },
        "id": "nACH_70sGiWU",
        "outputId": "d062fbe3-8763-4778-f153-0c9444afc17f"
      },
      "source": [
        "import numpy as np\n",
        "y = np.array([45, 46, 47, 48, 49, 50, 51, 52, 53, 54, 55])\n",
        "p = np.array([0.05, 0.11, 0.12, 0.14, 0.23, 0.18, 0.06, 0.05, 0.03, 0.02, 0.01])\n",
        "\n",
        "nseats = 50\n",
        "ntickets = 55\n",
        "\n",
        "prob_accommodate_all_ticketed = 0.0\n",
        "for i in range(len(y)):\n",
        "  if y[i] <= nseats:\n",
        "    prob_accommodate_all_ticketed = prob_accommodate_all_ticketed + p[i]\n",
        "\n",
        "print(prob_accommodate_all_ticketed)"
      ],
      "execution_count": 5,
      "outputs": [
        {
          "output_type": "stream",
          "name": "stdout",
          "text": [
            "0.8300000000000001\n"
          ]
        }
      ]
    },
    {
      "cell_type": "code",
      "metadata": {
        "colab": {
          "base_uri": "https://localhost:8080/"
        },
        "id": "fapPiHSlGiWU",
        "outputId": "0d2a9216-c20e-429a-b3c0-549eeeb6c30a"
      },
      "source": [
        "prob_accommodate_all_ticketed = 0.0\n",
        "for i in range(len(y)):\n",
        "  if y[i] <= (nseats-1):\n",
        "    prob_accommodate_all_ticketed = prob_accommodate_all_ticketed + p[i]\n",
        "\n",
        "print(prob_accommodate_all_ticketed)"
      ],
      "execution_count": 8,
      "outputs": [
        {
          "output_type": "stream",
          "name": "stdout",
          "text": [
            "0.65\n"
          ]
        }
      ]
    },
    {
      "cell_type": "code",
      "metadata": {
        "id": "nkb6J35KGiWU"
      },
      "source": [
        ""
      ],
      "execution_count": null,
      "outputs": []
    },
    {
      "cell_type": "code",
      "metadata": {
        "id": "_6MbrIY7GiWU"
      },
      "source": [
        ""
      ],
      "execution_count": null,
      "outputs": []
    },
    {
      "cell_type": "markdown",
      "metadata": {
        "id": "XjL_X6lWGiWU"
      },
      "source": [
        "# Question 3: \n",
        "\n",
        "A mail-order company business has six telephone lines. Let X denote the number of lines in use at a specified time. Suppose the pmf of X is as given in the accompanying table.\n",
        "\n",
        "\n",
        "Calculate the probability of each of the following events.\n",
        "\n",
        "(a) {at most three lines are in use}\n",
        "\n",
        "(b) {fewer than three lines are in use}\n",
        "\n",
        "(c) {at least three lines are in use}\n",
        "\n",
        "(d) {between two and five lines, inclusive, are in use}\n",
        "\n",
        "(e) {between two and four lines, inclusive, are not in use}\n",
        "\n",
        "(f) {at least four lines are not in use}"
      ]
    },
    {
      "cell_type": "code",
      "metadata": {
        "id": "DPSqI2KjGiWV"
      },
      "source": [
        ""
      ],
      "execution_count": null,
      "outputs": []
    },
    {
      "cell_type": "code",
      "metadata": {
        "id": "4nE5gkpBGiWV"
      },
      "source": [
        ""
      ],
      "execution_count": null,
      "outputs": []
    },
    {
      "cell_type": "markdown",
      "metadata": {
        "id": "H3MHbPF2GiWV"
      },
      "source": [
        "# Question 4: \n",
        "\n",
        "Compute the following binomial probabilities directly from the formula for b(x; n, p).\n",
        "\n",
        "(a) b(3; 5, 0.48)\n",
        "\n",
        "(b) b(2; 7, 0.77)\n",
        "\n",
        "(c) P(3 <= X <= 5) when n = 9 and p = 0.76\n",
        "\n",
        "(d) P(1 <= X) when n = 12 and p = 0.14"
      ]
    },
    {
      "cell_type": "code",
      "metadata": {
        "id": "CXT-Ofi-GiWW"
      },
      "source": [
        ""
      ],
      "execution_count": null,
      "outputs": []
    },
    {
      "cell_type": "code",
      "metadata": {
        "id": "Xa4B9jGSGiWW"
      },
      "source": [
        ""
      ],
      "execution_count": null,
      "outputs": []
    },
    {
      "cell_type": "code",
      "metadata": {
        "id": "6CuDp1F3GiWW"
      },
      "source": [
        ""
      ],
      "execution_count": null,
      "outputs": []
    },
    {
      "cell_type": "code",
      "metadata": {
        "id": "nNpgSZRcGiWX"
      },
      "source": [
        ""
      ],
      "execution_count": null,
      "outputs": []
    },
    {
      "cell_type": "code",
      "metadata": {
        "id": "fIb5gtRAGiWX"
      },
      "source": [
        ""
      ],
      "execution_count": null,
      "outputs": []
    },
    {
      "cell_type": "markdown",
      "metadata": {
        "id": "Ygq_a8btGiWX"
      },
      "source": [
        "# Question 5:\n",
        "\n",
        "When circuit boards used in the manufacture of compact disc players are tested, the long-run percentage of defectives is 10%. Let X = the number of defective boards in a random sample of size n = 25, so X ~ Bin(25, 0.10).\n",
        "\n",
        "(a) Determine P(X <= 2).\n",
        "\n",
        "(b) Determine P(X >= 5).\n",
        "\n",
        "(c) Determine P(1 <= X <= 4).\n",
        "\n",
        "(d) What is the probability that none of the 25 boards is defective?\n",
        "\n",
        "(e) Calculate the expected value and standard deviation of X."
      ]
    },
    {
      "cell_type": "code",
      "metadata": {
        "id": "_TciZdNBGiWX"
      },
      "source": [
        "from scipy.stats import binom\n",
        "n = 180\n",
        "p = 0.01\n",
        "\n",
        "x = binom(n,p)"
      ],
      "execution_count": 10,
      "outputs": []
    },
    {
      "cell_type": "code",
      "metadata": {
        "colab": {
          "base_uri": "https://localhost:8080/"
        },
        "id": "_Ys12JddGiWY",
        "outputId": "58f3cd27-3bd0-4559-a5fc-dad41ccd33a8"
      },
      "source": [
        "print(x.cdf(2))"
      ],
      "execution_count": 11,
      "outputs": [
        {
          "output_type": "stream",
          "name": "stdout",
          "text": [
            "0.7308934112135346\n"
          ]
        }
      ]
    },
    {
      "cell_type": "code",
      "metadata": {
        "colab": {
          "base_uri": "https://localhost:8080/"
        },
        "id": "qtJFZyKyGiWY",
        "outputId": "3c4d0b7b-6a74-45d0-869b-d1111de26e26"
      },
      "source": [
        "print(1-x.cdf(3))"
      ],
      "execution_count": 12,
      "outputs": [
        {
          "output_type": "stream",
          "name": "stdout",
          "text": [
            "0.10773624219721478\n"
          ]
        }
      ]
    },
    {
      "cell_type": "code",
      "metadata": {
        "colab": {
          "base_uri": "https://localhost:8080/"
        },
        "id": "3s4YKlOeGiWY",
        "outputId": "166b018d-79c9-489c-cd79-e9d5c707c34e"
      },
      "source": [
        "print(x.mean(), x.std())"
      ],
      "execution_count": 13,
      "outputs": [
        {
          "output_type": "stream",
          "name": "stdout",
          "text": [
            "1.8 1.3349157276772194\n"
          ]
        }
      ]
    },
    {
      "cell_type": "code",
      "metadata": {
        "colab": {
          "base_uri": "https://localhost:8080/"
        },
        "id": "VS0XRcy6GiWY",
        "outputId": "2e7fecb0-7e1e-46cc-ecd8-47e140abe5ce"
      },
      "source": [
        "print(x.cdf(0))"
      ],
      "execution_count": 14,
      "outputs": [
        {
          "output_type": "stream",
          "name": "stdout",
          "text": [
            "0.16380796970808742\n"
          ]
        }
      ]
    },
    {
      "cell_type": "code",
      "metadata": {
        "colab": {
          "base_uri": "https://localhost:8080/"
        },
        "id": "poPQelziGiWZ",
        "outputId": "ca632f39-2efc-45d8-daca-196ece81b917"
      },
      "source": [
        "x.cdf(4) - x.cdf(0)"
      ],
      "execution_count": 15,
      "outputs": [
        {
          "output_type": "execute_result",
          "data": {
            "text/plain": [
              "0.800583443009592"
            ]
          },
          "metadata": {},
          "execution_count": 15
        }
      ]
    },
    {
      "cell_type": "code",
      "metadata": {
        "id": "ZoFJm4RNGiWZ"
      },
      "source": [
        ""
      ],
      "execution_count": 15,
      "outputs": []
    },
    {
      "cell_type": "markdown",
      "metadata": {
        "id": "s2q3uq4aGiWZ"
      },
      "source": [
        "# Question 6:\n",
        "\n",
        "An airport limousine can accommodate up to four passengers on any one trip. The company will accept a maximum of six reservations for a trip, and a passenger must have a reservation. From previous records, 40% of all those making reservations do not appear for the trip. Answer the following questions, assuming independence wherever appropriate.\n",
        "\n",
        "(a) If six reservations are made, what is the probability that at least one individual with a reservation cannot be accommodated on the trip?\n",
        "\n",
        "(b) If six reservations are made, what is the expected number of available places when the limousine departs?\n",
        "Your answer is incorrect.\n",
        "\n",
        "(c) Suppose the probability distribution of the number of reservations made is given in the accompanying table.\n",
        "\n",
        "Number of reservations    \t3      4\t 5\t   6\n",
        "\n",
        "Probability\t                0.09   0.24  0.33  0.34    \n",
        "\n",
        "Let X denote the number of passengers on a randomly selected trip. Obtain the probability mass function of X."
      ]
    },
    {
      "cell_type": "code",
      "metadata": {
        "id": "3jRIxALPGiWZ"
      },
      "source": [
        ""
      ],
      "execution_count": null,
      "outputs": []
    },
    {
      "cell_type": "code",
      "metadata": {
        "id": "e1LplfSLGiWZ"
      },
      "source": [
        ""
      ],
      "execution_count": null,
      "outputs": []
    },
    {
      "cell_type": "code",
      "metadata": {
        "id": "LeKgofm5GiWa"
      },
      "source": [
        "\n",
        "        "
      ],
      "execution_count": null,
      "outputs": []
    },
    {
      "cell_type": "code",
      "metadata": {
        "id": "3OgO55qOGiWa"
      },
      "source": [
        ""
      ],
      "execution_count": null,
      "outputs": []
    },
    {
      "cell_type": "markdown",
      "metadata": {
        "id": "Ay1mOCFoGiWa"
      },
      "source": [
        "# Question 7:\n",
        "\n",
        "Let X, the number of flaws on the surface of a randomly selected boiler of a certain type, have a Poisson distribution with parameter λ = 3. Compute the following probabilities.\n",
        "\n",
        "(a) P(X ≤ 8)\n",
        "\n",
        "(b) P(X = 8)\n",
        "\n",
        "(c) P(9 ≤ X)\n",
        "\n",
        "(d) P(5 ≤ X ≤ 8)\n",
        "\n",
        "(e) P(5 < X < 8)"
      ]
    },
    {
      "cell_type": "code",
      "metadata": {
        "id": "9WYiYLodGiWb"
      },
      "source": [
        "import scipy.stats as stats\n",
        "x = stats.poisson(4)"
      ],
      "execution_count": 16,
      "outputs": []
    },
    {
      "cell_type": "code",
      "metadata": {
        "colab": {
          "base_uri": "https://localhost:8080/"
        },
        "id": "JQbkUpoAGiWb",
        "outputId": "cca47250-6a52-4c38-bc51-491609d726e4"
      },
      "source": [
        "print(x.cdf(7))\n",
        "print(x.pmf(7))\n",
        "print(1-x.cdf(7))\n",
        "print(x.cdf(7)-x.cdf(3))\n",
        "print(x.pmf(5) + x.pmf(6))"
      ],
      "execution_count": 18,
      "outputs": [
        {
          "output_type": "stream",
          "name": "stdout",
          "text": [
            "0.9488663842071527\n",
            "0.0595403626097263\n",
            "0.05113361579284725\n",
            "0.5153962638404438\n",
            "0.26048908641755275\n"
          ]
        }
      ]
    },
    {
      "cell_type": "markdown",
      "metadata": {
        "id": "sS_RPwXqGiWb"
      },
      "source": [
        "# Question 8\n",
        "\n",
        "Consider writing onto a computer disk and then sending it through a certifier that counts the number of missing pulses. Suppose this number X has a Poisson distribution with parameter λ = 0.19.\n",
        "\n",
        "(a) What is the probability that a disk has exactly one missing pulse?\n",
        "\n",
        "(b) What is the probability that a disk has at least two missing pulses?\n",
        "\n",
        "(c) If two disks are independently selected, what is the probability that neither contains a missing pulse?"
      ]
    },
    {
      "cell_type": "code",
      "metadata": {
        "colab": {
          "base_uri": "https://localhost:8080/"
        },
        "id": "l8fJAAPfGiWb",
        "outputId": "03b7addd-7823-40f0-8e8f-f86ed9e09012"
      },
      "source": [
        "x = stats.poisson(0.12)\n",
        "#A\n",
        "print(x.pmf(1))\n",
        "#B\n",
        "print(1-x.cdf(1))\n",
        "#C\n",
        "print(x.pmf(0)*x.pmf(0))"
      ],
      "execution_count": 19,
      "outputs": [
        {
          "output_type": "stream",
          "name": "stdout",
          "text": [
            "0.10643045240605889\n",
            "0.006649110876783548\n",
            "0.7866278610665534\n"
          ]
        }
      ]
    },
    {
      "cell_type": "code",
      "metadata": {
        "id": "vm-BGgchGiWb"
      },
      "source": [
        ""
      ],
      "execution_count": null,
      "outputs": []
    },
    {
      "cell_type": "markdown",
      "metadata": {
        "id": "mj91zWibGiWc"
      },
      "source": [
        "# Question 9\n",
        "\n",
        "In proof testing of circuit boards, the probability that any particular diode will fail is 0.01. Suppose a circuit board contains 150 diodes.\n",
        "\n",
        "(a) How many diodes would you expect to fail?\n",
        "\n",
        "What is the standard deviation of the number that are expected to fail?\n",
        "\n",
        "(b) What is the (approximate) probability that at least four diodes will fail on a randomly selected board? (Use binomial approximation.)\n",
        "\n",
        "(c) If five boards are shipped to a particular customer, how likely is it that at least four of them will work properly? (A board works properly only if all its diodes work.)"
      ]
    },
    {
      "cell_type": "code",
      "metadata": {
        "id": "MIbi_y8aGiWc"
      },
      "source": [
        ""
      ],
      "execution_count": null,
      "outputs": []
    },
    {
      "cell_type": "code",
      "metadata": {
        "id": "pwJ7GyQvGiWc"
      },
      "source": [
        ""
      ],
      "execution_count": null,
      "outputs": []
    },
    {
      "cell_type": "code",
      "metadata": {
        "id": "8JgEXBQLGiWc"
      },
      "source": [
        ""
      ],
      "execution_count": null,
      "outputs": []
    },
    {
      "cell_type": "code",
      "metadata": {
        "id": "hGN1qnjvGiWc"
      },
      "source": [
        ""
      ],
      "execution_count": null,
      "outputs": []
    },
    {
      "cell_type": "code",
      "metadata": {
        "id": "2e3K7_DrGiWc"
      },
      "source": [
        ""
      ],
      "execution_count": null,
      "outputs": []
    },
    {
      "cell_type": "code",
      "metadata": {
        "id": "iMBL-MZQGiWd"
      },
      "source": [
        ""
      ],
      "execution_count": null,
      "outputs": []
    },
    {
      "cell_type": "code",
      "metadata": {
        "id": "JTTmZS5-GiWd"
      },
      "source": [
        ""
      ],
      "execution_count": null,
      "outputs": []
    }
  ]
}